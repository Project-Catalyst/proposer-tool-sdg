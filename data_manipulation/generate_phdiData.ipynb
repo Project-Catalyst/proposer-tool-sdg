{
 "cells": [
  {
   "cell_type": "code",
   "execution_count": 10,
   "metadata": {},
   "outputs": [],
   "source": [
    "import pandas\n",
    "\n",
    "APP_DATA_PATH = '../src/assets/data/hdr22.json'\n",
    "DATA_PATH = './raw_data/HDR21-22_Statistical_Annex_PHDI_Table.xlsx'\n",
    "ROWS_TO_SKIP = [i for i in range(1,7)]\n",
    "MAP_COLS = {\n",
    "  'A':'hdiRank',\n",
    "  'B':'country',\n",
    "  'C':'hdi',\n",
    "  'E':'phdiValue',\n",
    "  'G':'hdiDiffValuePerc',\n",
    "  'I':'hdiDiffRank',\n",
    "  'K':'adjFactor',\n",
    "  'M':'cooPercap',\n",
    "  'O':'cooIndex',\n",
    "  'Q':'materialPercap',\n",
    "  'S':'materialIndex'\n",
    "}\n",
    "COLS_TYPE = {\n",
    "  'country': str,\n",
    "  'hdi': float,\n",
    "  'phdiValue': float,\n",
    "  'hdiDiffValuePerc': float,\n",
    "  'adjFactor': float,\n",
    "  'cooPercap': float,\n",
    "  'cooIndex': float,\n",
    "  'materialPercap': float,\n",
    "  'materialIndex': float\n",
    "}\n",
    "\n",
    "db = pandas.read_excel(DATA_PATH, \n",
    "                       names=MAP_COLS.values(),\n",
    "                       index_col=None,\n",
    "                       dtype=COLS_TYPE,\n",
    "                       usecols=','.join(MAP_COLS.keys()), \n",
    "                       skiprows=lambda x: x in ROWS_TO_SKIP,\n",
    "                       na_values=['..']\n",
    "                      )\n",
    "db.dropna(axis='index', subset='hdiRank', inplace=True)\n",
    "db['hdiRank'] = db.hdiRank.astype(int)\n",
    "db['hdiDiffRank'] = db.hdiDiffRank.astype(pandas.Int64Dtype())\n",
    "db.sort_values(by=['country'], inplace=True)\n",
    "db.insert(loc=0, column='id', value=db.reset_index(drop=True).index)\n",
    "\n",
    "db.to_json(path_or_buf=APP_DATA_PATH, \n",
    "           orient='records',\n",
    "           indent=2)"
   ]
  }
 ],
 "metadata": {
  "kernelspec": {
   "display_name": "base",
   "language": "python",
   "name": "python3"
  },
  "language_info": {
   "codemirror_mode": {
    "name": "ipython",
    "version": 3
   },
   "file_extension": ".py",
   "mimetype": "text/x-python",
   "name": "python",
   "nbconvert_exporter": "python",
   "pygments_lexer": "ipython3",
   "version": "3.9.7"
  },
  "orig_nbformat": 4
 },
 "nbformat": 4,
 "nbformat_minor": 2
}
